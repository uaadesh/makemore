{
 "cells": [
  {
   "cell_type": "code",
   "execution_count": 26,
   "id": "1cc0bd05",
   "metadata": {},
   "outputs": [],
   "source": [
    "import torch\n",
    "import torch.nn.functional as F\n",
    "import matplotlib.pyplot as plt\n",
    "%matplotlib inline"
   ]
  },
  {
   "cell_type": "code",
   "execution_count": 27,
   "id": "000c7f5f",
   "metadata": {},
   "outputs": [
    {
     "data": {
      "text/plain": [
       "['emma', 'olivia', 'ava', 'isabella', 'sophia', 'charlotte', 'mia', 'amelia']"
      ]
     },
     "execution_count": 27,
     "metadata": {},
     "output_type": "execute_result"
    }
   ],
   "source": [
    "# read all the words\n",
    "words = open('names.txt', 'r').read().splitlines()\n",
    "words[:8]"
   ]
  },
  {
   "cell_type": "code",
   "execution_count": 28,
   "id": "bbddf346",
   "metadata": {},
   "outputs": [
    {
     "data": {
      "text/plain": [
       "32033"
      ]
     },
     "execution_count": 28,
     "metadata": {},
     "output_type": "execute_result"
    }
   ],
   "source": [
    "len(words)"
   ]
  },
  {
   "cell_type": "code",
   "execution_count": 29,
   "id": "de854e0d",
   "metadata": {},
   "outputs": [
    {
     "name": "stdout",
     "output_type": "stream",
     "text": [
      "{1: 'a', 2: 'b', 3: 'c', 4: 'd', 5: 'e', 6: 'f', 7: 'g', 8: 'h', 9: 'i', 10: 'j', 11: 'k', 12: 'l', 13: 'm', 14: 'n', 15: 'o', 16: 'p', 17: 'q', 18: 'r', 19: 's', 20: 't', 21: 'u', 22: 'v', 23: 'w', 24: 'x', 25: 'y', 26: 'z', 0: '.'}\n",
      "27\n"
     ]
    }
   ],
   "source": [
    "# build the vocabulary of characters and mappings to/from integers\n",
    "chars = sorted(list(set(''.join(words))))\n",
    "stoi = {s:i+1 for i,s in enumerate(chars)}\n",
    "stoi['.'] = 0\n",
    "itos = {i:s for s,i in stoi.items()}\n",
    "vocab_size = len(itos)\n",
    "print(itos)\n",
    "print(vocab_size)"
   ]
  },
  {
   "cell_type": "code",
   "execution_count": 30,
   "id": "2de70cbb",
   "metadata": {},
   "outputs": [
    {
     "name": "stdout",
     "output_type": "stream",
     "text": [
      "torch.Size([182625, 3]) torch.Size([182625])\n",
      "torch.Size([22655, 3]) torch.Size([22655])\n",
      "torch.Size([22866, 3]) torch.Size([22866])\n"
     ]
    }
   ],
   "source": [
    "# build the dataset\n",
    "block_size = 3 # context length : how many characters do we take to pedioct the next one\n",
    "\n",
    "def build_dataset(words):\n",
    "    X, Y = [], []\n",
    "    \n",
    "    for w in words:\n",
    "        context = [0] * block_size\n",
    "        for ch in w + '.':\n",
    "            ix = stoi[ch]\n",
    "            X.append(context)\n",
    "            Y.append(ix)\n",
    "            context = context[1:] + [ix] #crop and append\n",
    "        \n",
    "    X = torch.tensor(X)\n",
    "    Y = torch.tensor(Y)\n",
    "    print(X.shape, Y.shape)\n",
    "    return X, Y\n",
    "\n",
    "import random\n",
    "random.seed(42)\n",
    "random.shuffle(words)\n",
    "n1 = int(0.8*len(words))\n",
    "n2 = int(0.9*len(words))\n",
    "\n",
    "Xtr, Ytr = build_dataset(words[:n1])\n",
    "Xdev, Ydev = build_dataset(words[n1:n2])\n",
    "Xte, Yte = build_dataset(words[n2:])"
   ]
  },
  {
   "cell_type": "code",
   "execution_count": 66,
   "id": "74fcf75a",
   "metadata": {},
   "outputs": [
    {
     "name": "stdout",
     "output_type": "stream",
     "text": [
      "12297\n"
     ]
    }
   ],
   "source": [
    "# MLP revisited\n",
    "n_embd = 10 # the dimensionality of the character embedding vectors\n",
    "n_hidden = 200 # the number of nuerons in the hidden layer of the MLP\n",
    "\n",
    "g = torch.Generator().manual_seed(2147483647)\n",
    "C = torch.randn((vocab_size, n_embd), generator=g)\n",
    "w1 = torch.randn((block_size * n_embd, n_hidden), generator=g) * 0.2\n",
    "b1 = torch.randn(n_hidden, generator=g) * 0.01\n",
    "w2 = torch.randn((n_hidden, vocab_size), generator=g) * 0.01\n",
    "b2 = torch.randn(vocab_size, generator=g) * 0\n",
    "\n",
    "# Initially the logits should be low and not very high numbers because that means\n",
    "# the model is confident or biased for some of the output which it has no reasons \n",
    "# to be, hence the scaling down of w2 and b2\n",
    "\n",
    "# while using batch normalisation we don't want the actiations to always be normally \n",
    "# distributed so we add aditional weights and bias after normalisation so that once \n",
    "# the activation is normalised they are allowed to shift there mean and deviations too.\n",
    "# the weights set to 1 and bias to zero makes sure initial the normal distribution is same \n",
    "# but the parameters can be leraned.\n",
    "\n",
    "bngain = torch.ones((1, n_hidden))\n",
    "bnbias = torch.zeros((1, n_hidden))\n",
    "bnmean_running = torch.zeros((1, n_hidden))\n",
    "bnstd_running = torch.ones((1, n_hidden))\n",
    "\n",
    "parameters = [C, w1, b1, w2, b2, bngain, bnbias]\n",
    "\n",
    "print(sum(p.nelement() for p in parameters))\n",
    "for p in parameters:\n",
    "    p.requires_grad = True"
   ]
  },
  {
   "cell_type": "code",
   "execution_count": 67,
   "id": "bee1ee4c",
   "metadata": {},
   "outputs": [],
   "source": [
    "# We fixed the softmax confidently wrong issue by scaling down the weights and bias initialization \n",
    "# of the last layer since having a large actiavtion at the very first iteration will result into \n",
    "# large loss in the very first iterations of the training. Also having large weights and bias in the \n",
    "# hidden layers may result into the activation functions to fall into the flat regions of the activation \n",
    "# functions which may result in the gradients to either be zero or just passing through the neuron."
   ]
  },
  {
   "cell_type": "code",
   "execution_count": 68,
   "id": "0a0e8ed5",
   "metadata": {},
   "outputs": [
    {
     "name": "stdout",
     "output_type": "stream",
     "text": [
      "      0/ 200000 : 3.3147\n",
      "  10000/ 200000 : 2.1341\n",
      "  20000/ 200000 : 2.3173\n",
      "  30000/ 200000 : 2.4115\n",
      "  40000/ 200000 : 2.0124\n",
      "  50000/ 200000 : 2.3003\n",
      "  60000/ 200000 : 2.4708\n",
      "  70000/ 200000 : 2.1208\n",
      "  80000/ 200000 : 2.3562\n",
      "  90000/ 200000 : 2.1095\n",
      " 100000/ 200000 : 1.9329\n",
      " 110000/ 200000 : 2.3919\n",
      " 120000/ 200000 : 1.9795\n",
      " 130000/ 200000 : 2.4764\n",
      " 140000/ 200000 : 2.3703\n",
      " 150000/ 200000 : 2.3098\n",
      " 160000/ 200000 : 2.0003\n",
      " 170000/ 200000 : 1.8345\n",
      " 180000/ 200000 : 2.0355\n",
      " 190000/ 200000 : 1.8853\n",
      "2.369077205657959\n"
     ]
    }
   ],
   "source": [
    "# same optimization as last time\n",
    "max_step = 200000\n",
    "batch_size = 32\n",
    "lossi = []\n",
    "\n",
    "for i in range(max_step):\n",
    "    # mini batch construct\n",
    "    ix = torch.randint(0, Xtr.shape[0], (batch_size,), generator = g)\n",
    "    Xb, Yb = Xtr[ix], Ytr[ix]\n",
    "    \n",
    "    # forward pass\n",
    "    emb = C[Xb] # embed the character into vectors\n",
    "    embcat = emb.view(emb.shape[0], -1) # concatenate the vectors\n",
    "    bnmeani = hpreact.mean((0, keepdim=True))\n",
    "    bnstdi = hpreact.std((0, keepdim=True))\n",
    "    hpreact = embcat @ w1 + b1 # hidden layer pre activation\n",
    "    # batch normalisation\n",
    "    hpreact = bngain * (hpreact - bnmeani) / bnstdi + bnbias\n",
    "    \n",
    "    with torch.no_grad():\n",
    "        bnmean_running = bnmean_running * 0.999 + bnmeani * 0.001\n",
    "        bnstd_running = bnstd_running * 0.999 + bnstdi * 0.001\n",
    "    \n",
    "    h = torch.tanh(hpreact) # hidden layer\n",
    "    logits = h @ w2 + b2 # output layer\n",
    "    loss = F.cross_entropy(logits, Yb) # loss function\n",
    "#     print(loss.item())\n",
    "    \n",
    "    # backward pass\n",
    "    for p in parameters:\n",
    "        p.grad = None\n",
    "    loss.backward()\n",
    "    \n",
    "    # update\n",
    "    lr = 0.1 if i<100000 else 0.01\n",
    "    for p in parameters:\n",
    "        p.data += -lr * p.grad\n",
    "        \n",
    "    # track stats\n",
    "    if i%10000 == 0:\n",
    "        print(f\"{i:7d}/{max_step:7d} : {loss.item():.4f}\")\n",
    "    lossi.append(loss.log10().item())\n",
    "#     break\n",
    "    \n",
    "print(loss.item())"
   ]
  },
  {
   "cell_type": "code",
   "execution_count": 69,
   "id": "ce4f9045",
   "metadata": {},
   "outputs": [
    {
     "data": {
      "text/plain": [
       "[<matplotlib.lines.Line2D at 0x20194783950>]"
      ]
     },
     "execution_count": 69,
     "metadata": {},
     "output_type": "execute_result"
    },
    {
     "data": {
      "image/png": "[encoded data removed]",
      "text/plain": [
       "<Figure size 640x480 with 1 Axes>"
      ]
     },
     "metadata": {},
     "output_type": "display_data"
    }
   ],
   "source": [
    "plt.plot(lossi)"
   ]
  },
  {
   "cell_type": "code",
   "execution_count": null,
   "id": "6fc9d5f4",
   "metadata": {},
   "outputs": [],
   "source": [
    "# caliberate the batch norm at the end of training\n",
    "\n",
    "with torch.no_grad():\n",
    "    # pass the training set through\n",
    "    emb = C[Xtr]\n",
    "    embcat = emb.view(emb.shape[0], -1)\n",
    "    hpreact = embcat @ w1 + b1\n",
    "    # measure the mean/std over the entire training set \n",
    "    bnmean = hpreact.mean(0, keepdim=True)\n",
    "    bnstd = hpreact.std(0, keepdim=True)"
   ]
  },
  {
   "cell_type": "code",
   "execution_count": 70,
   "id": "1a41ba11",
   "metadata": {},
   "outputs": [
    {
     "name": "stdout",
     "output_type": "stream",
     "text": [
      "train 2.0620570182800293\n",
      "val 2.1022262573242188\n"
     ]
    }
   ],
   "source": [
    "@torch.no_grad() # this decorator disables the gradient tracking\n",
    "\n",
    "def split_loss(split):\n",
    "    x, y = {\n",
    "        'train' : (Xtr, Ytr),\n",
    "        'val' : (Xdev, Ydev), \n",
    "        'test' : (Xte, Yte),\n",
    "    }[split]\n",
    "    emb = C[x] # (N, block_size, n_embd)\n",
    "    embcat = emb.view(emb.shape[0], -1) # concatenate into (N, block_size, n_embd)\n",
    "    hpreact = embcat @ w1 + b1\n",
    "#     hpreact = bngain * ((hpreact - hpreact.mean(0, keepdim=True)) / hpreact.std(0, keepdim=True)) + bnbias\n",
    "    hpreact = bngain * (hpreact - bnmean) / bnstd + bnbias\n",
    "    h = torch.tanh(hpreact) # hidden layer\n",
    "    logits = h @ w2 + b2 # output layer\n",
    "    loss = F.cross_entropy(logits, y) # loss function\n",
    "    print(split, loss.item())\n",
    "    \n",
    "split_loss('train')\n",
    "split_loss('val')"
   ]
  },
  {
   "cell_type": "code",
   "execution_count": 71,
   "id": "89ff4292",
   "metadata": {},
   "outputs": [
    {
     "name": "stdout",
     "output_type": "stream",
     "text": [
      "bria.\n",
      "bmyah.\n",
      "shermadhvyah.\n",
      "bethruthjdrvez.\n",
      "sherpdrt.\n",
      "bissapprpnleighsvanshantellysshmpra.\n",
      "brshdrvrsshignnsthn.\n",
      "jestlynextth.\n",
      "bruububrcdyshym.\n",
      "samels.\n",
      "bab.\n",
      "qusflyasshan.\n",
      "sadylysuntzallyssupmiy.\n",
      "brukslevokten.\n",
      "zdid.\n",
      "quinsobhghptix.\n",
      "sumgeyna.\n",
      "hurabluislaislegr.\n",
      "brwally.\n",
      "brthbrizthreghikassaitgf.\n"
     ]
    }
   ],
   "source": [
    "# sample from the model \n",
    "g = torch.Generator().manual_seed(2147483647 + 10)\n",
    "\n",
    "for _ in range(20):\n",
    "    out = []\n",
    "    context = [0] * block_size\n",
    "    while True:\n",
    "        emb = C[torch.tensor([context])]\n",
    "        h = torch.tanh(emb.view(1, -1) @ w1 + b1)\n",
    "        logits = h @ w2 + b2\n",
    "        probs = F.softmax(logits, dim=1)\n",
    "        ix = torch.multinomial(probs, num_samples=1, generator=g).item()\n",
    "        context = context[1:] + [ix]\n",
    "        out.append(ix)\n",
    "        if ix==0:\n",
    "            break\n",
    "            \n",
    "    print(''.join(itos[i] for i in out))"
   ]
  },
  {
   "cell_type": "code",
   "execution_count": null,
   "id": "b6b25280",
   "metadata": {},
   "outputs": [],
   "source": []
  }
 ],
 "metadata": {
  "kernelspec": {
   "display_name": "Python 3 (ipykernel)",
   "language": "python",
   "name": "python3"
  },
  "language_info": {
   "codemirror_mode": {
    "name": "ipython",
    "version": 3
   },
   "file_extension": ".py",
   "mimetype": "text/x-python",
   "name": "python",
   "nbconvert_exporter": "python",
   "pygments_lexer": "ipython3",
   "version": "3.11.5"
  }
 },
 "nbformat": 4,
 "nbformat_minor": 5
}
