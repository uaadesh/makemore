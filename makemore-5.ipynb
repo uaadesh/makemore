{
 "cells": [
  {
   "cell_type": "code",
   "execution_count": 2,
   "id": "9b35dce2",
   "metadata": {},
   "outputs": [],
   "source": [
    "import torch\n",
    "import torch.nn.functional as F\n",
    "import matplotlib.pyplot as plt\n",
    "%matplotlib inline"
   ]
  },
  {
   "cell_type": "code",
   "execution_count": 3,
   "id": "06230e80",
   "metadata": {},
   "outputs": [
    {
     "data": {
      "text/plain": [
       "['emma', 'olivia', 'ava', 'isabella', 'sophia', 'charlotte', 'mia', 'amelia']"
      ]
     },
     "execution_count": 3,
     "metadata": {},
     "output_type": "execute_result"
    }
   ],
   "source": [
    "# read all the words\n",
    "words = open('names.txt', 'r').read().splitlines()\n",
    "words[:8]"
   ]
  },
  {
   "cell_type": "code",
   "execution_count": 4,
   "id": "414cc61f",
   "metadata": {},
   "outputs": [
    {
     "name": "stdout",
     "output_type": "stream",
     "text": [
      "{1: 'a', 2: 'b', 3: 'c', 4: 'd', 5: 'e', 6: 'f', 7: 'g', 8: 'h', 9: 'i', 10: 'j', 11: 'k', 12: 'l', 13: 'm', 14: 'n', 15: 'o', 16: 'p', 17: 'q', 18: 'r', 19: 's', 20: 't', 21: 'u', 22: 'v', 23: 'w', 24: 'x', 25: 'y', 26: 'z', 0: '.'}\n",
      "27\n"
     ]
    }
   ],
   "source": [
    "# build the vocabulary of characters and mappings to/from integers\n",
    "chars = sorted(list(set(''.join(words))))\n",
    "stoi = {s:i+1 for i,s in enumerate(chars)}\n",
    "stoi['.'] = 0\n",
    "itos = {i:s for s,i in stoi.items()}\n",
    "vocab_size = len(itos)\n",
    "print(itos)\n",
    "print(vocab_size)"
   ]
  },
  {
   "cell_type": "code",
   "execution_count": 5,
   "id": "4a7e61bd",
   "metadata": {},
   "outputs": [],
   "source": [
    "# shuffle up the words\n",
    "import random\n",
    "random.seed(42)\n",
    "random.shuffle(words)"
   ]
  },
  {
   "cell_type": "code",
   "execution_count": 6,
   "id": "2bc1ac49",
   "metadata": {},
   "outputs": [
    {
     "name": "stdout",
     "output_type": "stream",
     "text": [
      "torch.Size([182580, 8]) torch.Size([182580])\n",
      "torch.Size([22767, 8]) torch.Size([22767])\n",
      "torch.Size([22799, 8]) torch.Size([22799])\n"
     ]
    }
   ],
   "source": [
    "# build the dataset\n",
    "block_size = 8 # context length : how many characters do we take to pedioct the next one\n",
    "\n",
    "def build_dataset(words):\n",
    "    X, Y = [], []\n",
    "    \n",
    "    for w in words:\n",
    "        context = [0] * block_size\n",
    "        for ch in w + '.':\n",
    "            ix = stoi[ch]\n",
    "            X.append(context)\n",
    "            Y.append(ix)\n",
    "            context = context[1:] + [ix] #crop and append\n",
    "        \n",
    "    X = torch.tensor(X)\n",
    "    Y = torch.tensor(Y)\n",
    "    print(X.shape, Y.shape)\n",
    "    return X, Y\n",
    "\n",
    "import random\n",
    "random.seed(42)\n",
    "random.shuffle(words)\n",
    "n1 = int(0.8*len(words))\n",
    "n2 = int(0.9*len(words))\n",
    "\n",
    "Xtr, Ytr = build_dataset(words[:n1])\n",
    "Xdev, Ydev = build_dataset(words[n1:n2])\n",
    "Xte, Yte = build_dataset(words[n2:])"
   ]
  },
  {
   "cell_type": "code",
   "execution_count": 7,
   "id": "5b9eace3",
   "metadata": {},
   "outputs": [
    {
     "name": "stdout",
     "output_type": "stream",
     "text": [
      "........ --> e\n",
      ".......e --> b\n",
      "......eb --> r\n",
      ".....ebr --> i\n",
      "....ebri --> m\n",
      "...ebrim --> a\n",
      "..ebrima --> .\n",
      "........ --> h\n",
      ".......h --> i\n",
      "......hi --> l\n",
      ".....hil --> t\n",
      "....hilt --> o\n",
      "...hilto --> n\n",
      "..hilton --> .\n",
      "........ --> j\n",
      ".......j --> h\n",
      "......jh --> e\n",
      ".....jhe --> n\n",
      "....jhen --> e\n",
      "...jhene --> .\n"
     ]
    }
   ],
   "source": [
    "for x,y in zip(Xtr[:20], Ytr[:20]):\n",
    "    print(''.join(itos[ix.item()] for ix in x), '-->', itos[y.item()])"
   ]
  },
  {
   "cell_type": "code",
   "execution_count": 8,
   "id": "e03e2f45",
   "metadata": {},
   "outputs": [],
   "source": [
    "class Linear:\n",
    "    \n",
    "    def __init__(self, fan_in, fan_out, bias=True):\n",
    "        self.weight = torch.randn((fan_in, fan_out)) / fan_in**0.5 # note : kaiming initialisation\n",
    "        self.bias = torch.zeros(fan_out) if bias else None\n",
    "        \n",
    "    def __call__(self, x):\n",
    "        self.out = x @ self.weight\n",
    "        if self.bias is not None:\n",
    "            self.out += self.bias\n",
    "        return self.out\n",
    "    \n",
    "    def parameters(self):\n",
    "        return [self.weight] + ([] if self.bias is None else [self.bias])\n",
    "    \n",
    "    \n",
    "class BatchNorm1d:\n",
    "    \n",
    "    def __init__(self, dim, eps=1e-5, momentum=0.1):\n",
    "        self.eps = eps\n",
    "        self.momentum = momentum\n",
    "        self.training = True\n",
    "        # parameters (trained with backprop)\n",
    "        self.gamma = torch.ones(dim)\n",
    "        self.beta = torch.zeros(dim)\n",
    "        # buffers (trained with a running momentum update)\n",
    "        self.running_mean = torch.zeros(dim)\n",
    "        self.running_var = torch.ones(dim)\n",
    "        \n",
    "    def __call__(self, x):\n",
    "        # calculate the forward pass\n",
    "        if self.training:\n",
    "            xmean = x.mean(0, keepdim=True) # batch mean\n",
    "            xvar = x.var(0, keepdim=True) # batch variance\n",
    "        else:\n",
    "            xmean = self.running_mean\n",
    "            xvar = self.running_var\n",
    "        xhat = (x - xmean) / torch.sqrt(xvar + self.eps) # normalie to unit variance\n",
    "        self.out = self.gamma * xhat + self.beta\n",
    "        # update the buffers\n",
    "        if self.training:\n",
    "            with torch.no_grad():\n",
    "                self.running_mean = (1 - self.momentum) * self.running_mean + self.momentum * xmean\n",
    "                self.running_var = (1 - self.momentum) * self.running_var + self.momentum * xvar\n",
    "        return self.out\n",
    "    \n",
    "    def parameters(self):\n",
    "        return [self.gamma, self.beta]\n",
    "    \n",
    "    \n",
    "class Tanh:\n",
    "    def __call__(self, x):\n",
    "        self.out = torch.tanh(x)\n",
    "        return self.out\n",
    "    def parameters(self):\n",
    "        return []\n",
    "    \n",
    "    \n",
    "class Embedding:\n",
    "    \n",
    "    def __init__(self, num_embeddings, embedding_dim):\n",
    "        self.weight = torch.randn((num_embeddings, embedding_dim))\n",
    "        \n",
    "    def __call__(self, IX):\n",
    "        self.out = self.weight[IX]\n",
    "        return self.out\n",
    "    \n",
    "    def parameters(self):\n",
    "        return [self.weight]\n",
    "    \n",
    "    \n",
    "class Flatten:\n",
    "    \n",
    "    def __call__(self, x):\n",
    "        self.out = x.view(x.shape[0], -1)\n",
    "        return self.out\n",
    "    \n",
    "    def parameters(self):\n",
    "        return []\n",
    "    \n",
    "    \n",
    "class Sequential:\n",
    "    \n",
    "    def __init__(self, layers):\n",
    "        self.layers = layers\n",
    "        \n",
    "    def __call__(self, x):\n",
    "        for layer in self.layers:\n",
    "            x = layer(x)\n",
    "        self.out = x\n",
    "        return self.out\n",
    "    \n",
    "    def parameters(self):\n",
    "        # get parameters of all layers stretch them out into one list\n",
    "        return [p for layer in self.layers for p in layer.parameters()]"
   ]
  },
  {
   "cell_type": "code",
   "execution_count": 9,
   "id": "3fd6c0de",
   "metadata": {},
   "outputs": [],
   "source": [
    "torch.manual_seed(42); # seed rng for reproducibility"
   ]
  },
  {
   "cell_type": "code",
   "execution_count": 11,
   "id": "910d6140",
   "metadata": {},
   "outputs": [
    {
     "name": "stdout",
     "output_type": "stream",
     "text": [
      "22097\n"
     ]
    }
   ],
   "source": [
    "n_embd = 10 # the dimensionality of the character embedding vector\n",
    "n_hidden = 200 # the number of neurons in the hidden layer of MLP\n",
    "\n",
    "C = torch.randn((vocab_size, n_embd))\n",
    "model = Sequential([\n",
    "    Embedding(vocab_size, n_embd),\n",
    "    Flatten(),\n",
    "    Linear(n_embd * block_size, n_hidden, bias=False), BatchNorm1d(n_hidden), Tanh(),\n",
    "    Linear(n_hidden, vocab_size),\n",
    "])\n",
    "\n",
    "# parameter init \n",
    "with torch.no_grad():\n",
    "    model.layers[-1].weight *= 0.1 # last layer make less confident\n",
    "    \n",
    "parameters = model.parameters()\n",
    "print(sum(p.nelement() for p in parameters)) # number of parameters in total\n",
    "for p in parameters:\n",
    "    p.requires_grad = True"
   ]
  },
  {
   "cell_type": "code",
   "execution_count": null,
   "id": "e0be81f6",
   "metadata": {},
   "outputs": [],
   "source": []
  },
  {
   "cell_type": "code",
   "execution_count": 20,
   "id": "c1edfd81",
   "metadata": {},
   "outputs": [
    {
     "name": "stdout",
     "output_type": "stream",
     "text": [
      "torch.Size([4, 8])\n"
     ]
    },
    {
     "data": {
      "text/plain": [
       "tensor([[ 0,  0, 11,  1, 12,  1, 25,  1],\n",
       "        [ 0,  0, 23,  9, 14, 20, 15, 14],\n",
       "        [ 0,  0,  5, 12, 12,  5,  1, 14],\n",
       "        [ 0,  0,  0,  0,  0,  0,  0, 10]])"
      ]
     },
     "execution_count": 20,
     "metadata": {},
     "output_type": "execute_result"
    }
   ],
   "source": [
    "ix = torch.randint(0, Xtr.shape[0], (4, )) # let's look at a batch of just 4 examples\n",
    "Xb, Yb = Xtr[ix], Ytr[ix]\n",
    "logits = model(Xb)\n",
    "print(Xb.shape)\n",
    "Xb"
   ]
  },
  {
   "cell_type": "code",
   "execution_count": 21,
   "id": "bb74d4b9",
   "metadata": {},
   "outputs": [
    {
     "data": {
      "text/plain": [
       "torch.Size([4, 8, 10])"
      ]
     },
     "execution_count": 21,
     "metadata": {},
     "output_type": "execute_result"
    }
   ],
   "source": [
    "model.layers[0].out.shape # output of Embedding layer"
   ]
  },
  {
   "cell_type": "code",
   "execution_count": 22,
   "id": "75cde2c5",
   "metadata": {},
   "outputs": [
    {
     "data": {
      "text/plain": [
       "torch.Size([4, 80])"
      ]
     },
     "execution_count": 22,
     "metadata": {},
     "output_type": "execute_result"
    }
   ],
   "source": [
    "model.layers[1].out.shape # output of the Flatten layer"
   ]
  },
  {
   "cell_type": "code",
   "execution_count": 23,
   "id": "e679bc89",
   "metadata": {},
   "outputs": [
    {
     "data": {
      "text/plain": [
       "torch.Size([4, 200])"
      ]
     },
     "execution_count": 23,
     "metadata": {},
     "output_type": "execute_result"
    }
   ],
   "source": [
    "model.layers[2].out.shape # output of the Flatten layer"
   ]
  },
  {
   "cell_type": "code",
   "execution_count": null,
   "id": "bfc48dc6",
   "metadata": {},
   "outputs": [],
   "source": []
  },
  {
   "cell_type": "code",
   "execution_count": 12,
   "id": "c037c5a9",
   "metadata": {},
   "outputs": [
    {
     "name": "stdout",
     "output_type": "stream",
     "text": [
      "      0/ 200000 : 3.3008\n",
      "   1000/ 200000 : 2.9026\n",
      "   2000/ 200000 : 1.8909\n",
      "   3000/ 200000 : 2.3492\n",
      "   4000/ 200000 : 2.4706\n",
      "   5000/ 200000 : 2.4982\n",
      "   6000/ 200000 : 2.3088\n",
      "   7000/ 200000 : 1.8686\n",
      "   8000/ 200000 : 1.9744\n",
      "   9000/ 200000 : 2.2860\n",
      "  10000/ 200000 : 2.0881\n",
      "  11000/ 200000 : 2.0999\n",
      "  12000/ 200000 : 2.6393\n",
      "  13000/ 200000 : 2.4705\n",
      "  14000/ 200000 : 2.1491\n",
      "  15000/ 200000 : 1.9801\n",
      "  16000/ 200000 : 2.1840\n",
      "  17000/ 200000 : 1.9195\n",
      "  18000/ 200000 : 1.7247\n",
      "  19000/ 200000 : 2.0445\n",
      "  20000/ 200000 : 2.0937\n",
      "  21000/ 200000 : 2.0025\n",
      "  22000/ 200000 : 1.9131\n",
      "  23000/ 200000 : 2.0220\n",
      "  24000/ 200000 : 2.0694\n",
      "  25000/ 200000 : 2.1469\n",
      "  26000/ 200000 : 2.2497\n",
      "  27000/ 200000 : 2.3720\n",
      "  28000/ 200000 : 1.9756\n",
      "  29000/ 200000 : 2.4836\n",
      "  30000/ 200000 : 2.1289\n",
      "  31000/ 200000 : 1.9365\n",
      "  32000/ 200000 : 2.0528\n",
      "  33000/ 200000 : 1.8148\n",
      "  34000/ 200000 : 2.0788\n",
      "  35000/ 200000 : 2.1342\n",
      "  36000/ 200000 : 1.9765\n",
      "  37000/ 200000 : 2.5611\n",
      "  38000/ 200000 : 2.0678\n",
      "  39000/ 200000 : 1.8641\n",
      "  40000/ 200000 : 2.0394\n",
      "  41000/ 200000 : 2.1402\n",
      "  42000/ 200000 : 2.0707\n",
      "  43000/ 200000 : 1.9636\n",
      "  44000/ 200000 : 2.3413\n",
      "  45000/ 200000 : 1.9333\n",
      "  46000/ 200000 : 2.2345\n",
      "  47000/ 200000 : 2.0065\n",
      "  48000/ 200000 : 1.8176\n",
      "  49000/ 200000 : 1.7984\n",
      "  50000/ 200000 : 1.9475\n",
      "  51000/ 200000 : 2.3927\n",
      "  52000/ 200000 : 1.7142\n",
      "  53000/ 200000 : 2.2047\n",
      "  54000/ 200000 : 1.8743\n",
      "  55000/ 200000 : 2.0255\n",
      "  56000/ 200000 : 2.1559\n",
      "  57000/ 200000 : 1.8915\n",
      "  58000/ 200000 : 2.2822\n",
      "  59000/ 200000 : 1.9296\n",
      "  60000/ 200000 : 2.0320\n",
      "  61000/ 200000 : 2.0559\n",
      "  62000/ 200000 : 2.1137\n",
      "  63000/ 200000 : 2.0803\n",
      "  64000/ 200000 : 1.5818\n",
      "  65000/ 200000 : 2.0155\n",
      "  66000/ 200000 : 2.1600\n",
      "  67000/ 200000 : 1.6920\n",
      "  68000/ 200000 : 2.1715\n",
      "  69000/ 200000 : 1.9558\n",
      "  70000/ 200000 : 2.1305\n",
      "  71000/ 200000 : 1.7956\n",
      "  72000/ 200000 : 1.8999\n",
      "  73000/ 200000 : 2.0793\n",
      "  74000/ 200000 : 2.1568\n",
      "  75000/ 200000 : 2.0985\n",
      "  76000/ 200000 : 2.0072\n",
      "  77000/ 200000 : 2.3100\n",
      "  78000/ 200000 : 2.0517\n",
      "  79000/ 200000 : 1.9384\n",
      "  80000/ 200000 : 1.8470\n",
      "  81000/ 200000 : 1.9461\n",
      "  82000/ 200000 : 2.0268\n",
      "  83000/ 200000 : 2.1645\n",
      "  84000/ 200000 : 2.3255\n",
      "  85000/ 200000 : 2.0035\n",
      "  86000/ 200000 : 2.1226\n",
      "  87000/ 200000 : 2.2898\n",
      "  88000/ 200000 : 1.8684\n",
      "  89000/ 200000 : 1.6814\n",
      "  90000/ 200000 : 1.9859\n",
      "  91000/ 200000 : 1.7775\n",
      "  92000/ 200000 : 1.7746\n",
      "  93000/ 200000 : 2.0511\n",
      "  94000/ 200000 : 1.7844\n",
      "  95000/ 200000 : 1.8299\n",
      "  96000/ 200000 : 1.9987\n",
      "  97000/ 200000 : 1.9725\n",
      "  98000/ 200000 : 2.0658\n",
      "  99000/ 200000 : 2.1781\n",
      " 100000/ 200000 : 2.0828\n",
      " 101000/ 200000 : 1.8207\n",
      " 102000/ 200000 : 2.0749\n",
      " 103000/ 200000 : 2.0553\n",
      " 104000/ 200000 : 2.3443\n",
      " 105000/ 200000 : 2.0448\n",
      " 106000/ 200000 : 2.2956\n",
      " 107000/ 200000 : 2.2573\n",
      " 108000/ 200000 : 2.0453\n",
      " 109000/ 200000 : 1.7882\n",
      " 110000/ 200000 : 2.0530\n",
      " 111000/ 200000 : 1.9113\n",
      " 112000/ 200000 : 2.2330\n",
      " 113000/ 200000 : 2.0439\n",
      " 114000/ 200000 : 1.9526\n",
      " 115000/ 200000 : 2.0096\n",
      " 116000/ 200000 : 2.2258\n",
      " 117000/ 200000 : 1.8985\n",
      " 118000/ 200000 : 1.9962\n",
      " 119000/ 200000 : 1.9301\n",
      " 120000/ 200000 : 1.7625\n",
      " 121000/ 200000 : 1.9237\n",
      " 122000/ 200000 : 2.4101\n",
      " 123000/ 200000 : 2.1142\n",
      " 124000/ 200000 : 1.8554\n",
      " 125000/ 200000 : 2.2342\n",
      " 126000/ 200000 : 1.9440\n",
      " 127000/ 200000 : 2.2139\n",
      " 128000/ 200000 : 2.2446\n",
      " 129000/ 200000 : 2.1425\n",
      " 130000/ 200000 : 1.8052\n",
      " 131000/ 200000 : 2.0152\n",
      " 132000/ 200000 : 2.1665\n",
      " 133000/ 200000 : 2.1830\n",
      " 134000/ 200000 : 1.7362\n",
      " 135000/ 200000 : 1.8405\n",
      " 136000/ 200000 : 1.7441\n",
      " 137000/ 200000 : 2.2722\n",
      " 138000/ 200000 : 2.0247\n",
      " 139000/ 200000 : 2.0909\n",
      " 140000/ 200000 : 1.8858\n",
      " 141000/ 200000 : 2.4315\n",
      " 142000/ 200000 : 1.8503\n",
      " 143000/ 200000 : 2.3511\n",
      " 144000/ 200000 : 2.0229\n",
      " 145000/ 200000 : 1.8167\n",
      " 146000/ 200000 : 1.7511\n",
      " 147000/ 200000 : 1.9832\n",
      " 148000/ 200000 : 2.0202\n",
      " 149000/ 200000 : 1.7159\n",
      " 150000/ 200000 : 1.9334\n",
      " 151000/ 200000 : 1.9135\n",
      " 152000/ 200000 : 1.9395\n",
      " 153000/ 200000 : 1.7200\n",
      " 154000/ 200000 : 1.9288\n",
      " 155000/ 200000 : 1.9516\n",
      " 156000/ 200000 : 1.8664\n",
      " 157000/ 200000 : 1.8224\n",
      " 158000/ 200000 : 2.2319\n",
      " 159000/ 200000 : 1.9642\n",
      " 160000/ 200000 : 1.8802\n",
      " 161000/ 200000 : 2.1551\n",
      " 162000/ 200000 : 2.3875\n",
      " 163000/ 200000 : 2.3169\n",
      " 164000/ 200000 : 2.1020\n",
      " 165000/ 200000 : 1.6114\n",
      " 166000/ 200000 : 2.2543\n",
      " 167000/ 200000 : 1.9679\n",
      " 168000/ 200000 : 2.0879\n",
      " 169000/ 200000 : 2.0132\n",
      " 170000/ 200000 : 1.9960\n",
      " 171000/ 200000 : 2.0931\n",
      " 172000/ 200000 : 2.1247\n",
      " 173000/ 200000 : 1.8414\n",
      " 174000/ 200000 : 2.1058\n",
      " 175000/ 200000 : 1.8472\n",
      " 176000/ 200000 : 1.9792\n",
      " 177000/ 200000 : 2.1394\n",
      " 178000/ 200000 : 1.9022\n",
      " 179000/ 200000 : 1.8825\n",
      " 180000/ 200000 : 2.0038\n",
      " 181000/ 200000 : 2.0526\n",
      " 182000/ 200000 : 1.8200\n",
      " 183000/ 200000 : 1.8319\n",
      " 184000/ 200000 : 2.2466\n",
      " 185000/ 200000 : 1.6886\n",
      " 186000/ 200000 : 1.7852\n",
      " 187000/ 200000 : 1.7086\n",
      " 188000/ 200000 : 2.3112\n",
      " 189000/ 200000 : 2.2534\n",
      " 190000/ 200000 : 2.1159\n",
      " 191000/ 200000 : 1.9547\n",
      " 192000/ 200000 : 2.4362\n",
      " 193000/ 200000 : 2.1000\n",
      " 194000/ 200000 : 1.6802\n",
      " 195000/ 200000 : 2.0211\n",
      " 196000/ 200000 : 2.1375\n",
      " 197000/ 200000 : 1.8000\n",
      " 198000/ 200000 : 2.1319\n",
      " 199000/ 200000 : 2.3136\n"
     ]
    }
   ],
   "source": [
    "# optimization step\n",
    "max_steps = 200000\n",
    "batch_size = 32\n",
    "lossi= []\n",
    "\n",
    "for i in range(max_steps):\n",
    "    \n",
    "    # minibatch construct\n",
    "    ix = torch.randint(0, Xtr.shape[0], (batch_size,))\n",
    "    Xb, Yb = Xtr[ix], Ytr[ix] # batch X, Y\n",
    "    \n",
    "    # forward pass\n",
    "    logits = model(Xb)\n",
    "    loss = F.cross_entropy(logits, Yb) # loss function\n",
    "    \n",
    "    # backward pass\n",
    "    for p in parameters:\n",
    "        p.grad = None\n",
    "    loss.backward()\n",
    "    \n",
    "    # update : simple SGD\n",
    "    lr = 0.1 if i<15000 else 0.01 # step learning rate decay\n",
    "    for p in parameters:\n",
    "        p.data += -lr * p.grad\n",
    "        \n",
    "    # track stats\n",
    "    if i % 1000 == 0: # print every once in a while\n",
    "        print(f'{i:7d}/{max_steps:7d} : {loss.item():.4f}')\n",
    "    lossi.append(loss.log10().item())"
   ]
  },
  {
   "cell_type": "code",
   "execution_count": 13,
   "id": "20d8ff19",
   "metadata": {
    "scrolled": true
   },
   "outputs": [
    {
     "data": {
      "text/plain": [
       "[<matplotlib.lines.Line2D at 0x26a85341c50>]"
      ]
     },
     "execution_count": 13,
     "metadata": {},
     "output_type": "execute_result"
    },
    {
     "data": {
      "image/png": "[encoded data removed]",
      "text/plain": [
       "<Figure size 640x480 with 1 Axes>"
      ]
     },
     "metadata": {},
     "output_type": "display_data"
    }
   ],
   "source": [
    "# loss averaged over every 1000 steps for a smoother curve.\n",
    "plt.plot(torch.tensor(lossi).view(-1, 1000).mean(1))"
   ]
  },
  {
   "cell_type": "code",
   "execution_count": 14,
   "id": "b76b033e",
   "metadata": {},
   "outputs": [],
   "source": [
    "# put layer into eval mode (needed for batchnorm especially)\n",
    "for layer in model.layers:\n",
    "    layer.training = False"
   ]
  },
  {
   "cell_type": "code",
   "execution_count": 18,
   "id": "8589624d",
   "metadata": {},
   "outputs": [
    {
     "name": "stdout",
     "output_type": "stream",
     "text": [
      "train 1.9739749431610107\n",
      "val 2.0577869415283203\n"
     ]
    }
   ],
   "source": [
    "# evaluate the loss\n",
    "@torch.no_grad() # this decorator disables gradient tracking in pytorch\n",
    "def split_loss(split):\n",
    "    x, y ={\n",
    "        'train' : (Xtr, Ytr),\n",
    "        'val' : (Xdev, Ydev),\n",
    "        'text' : (Xte, Yte),\n",
    "    }[split]\n",
    "    logits = model(x)\n",
    "    loss = F.cross_entropy(logits, y)\n",
    "    print(split, loss.item())\n",
    "    \n",
    "split_loss('train')\n",
    "split_loss('val')"
   ]
  },
  {
   "cell_type": "code",
   "execution_count": 19,
   "id": "fe899d93",
   "metadata": {},
   "outputs": [
    {
     "name": "stdout",
     "output_type": "stream",
     "text": [
      "kilynn.\n",
      "kaden.\n",
      "lukien.\n",
      "tiesce.\n",
      "alani.\n",
      "cemello.\n",
      "larym.\n",
      "kashi.\n",
      "zaon.\n",
      "emmierose.\n",
      "bleyliys.\n",
      "daylou.\n",
      "viday.\n",
      "jaksiel.\n",
      "ambron.\n",
      "makton.\n",
      "klaley.\n",
      "jaslumuan.\n",
      "maelyn.\n",
      "tyk.\n"
     ]
    }
   ],
   "source": [
    "# sample from the model\n",
    "\n",
    "for _ in range(20):\n",
    "    out = []\n",
    "    context = [0] * block_size # (1, block_size, n_embd)\n",
    "    while True:\n",
    "        logits = model(torch.tensor([context]))\n",
    "        probs = F.softmax(logits, dim=1)\n",
    "        # sample from the distribution\n",
    "        ix = torch.multinomial(probs, num_samples=1).item()\n",
    "        # shift the context window and track the samples\n",
    "        context = context[1:] + [ix]\n",
    "        out.append(ix)\n",
    "        # if we sample the special '.' token, break\n",
    "        if ix==0:\n",
    "            break\n",
    "        \n",
    "    print(''.join(itos[i] for i in out)) # decode and print the generated word"
   ]
  },
  {
   "cell_type": "code",
   "execution_count": null,
   "id": "80f58861",
   "metadata": {},
   "outputs": [],
   "source": []
  },
  {
   "cell_type": "code",
   "execution_count": null,
   "id": "f7c99514",
   "metadata": {},
   "outputs": [],
   "source": []
  }
 ],
 "metadata": {
  "kernelspec": {
   "display_name": "Python 3 (ipykernel)",
   "language": "python",
   "name": "python3"
  },
  "language_info": {
   "codemirror_mode": {
    "name": "ipython",
    "version": 3
   },
   "file_extension": ".py",
   "mimetype": "text/x-python",
   "name": "python",
   "nbconvert_exporter": "python",
   "pygments_lexer": "ipython3",
   "version": "3.11.5"
  }
 },
 "nbformat": 4,
 "nbformat_minor": 5
}
