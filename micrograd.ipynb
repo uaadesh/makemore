{
 "cells": [
  {
   "cell_type": "code",
   "execution_count": 9,
   "id": "740a203a",
   "metadata": {},
   "outputs": [],
   "source": [
    "class Value:\n",
    "    def __init__(self, data, _children=(), _op=''):\n",
    "        self.data = data\n",
    "        self.grad = 0\n",
    "        self._prev = set(_children)\n",
    "        self._op = _op\n",
    "        \n",
    "    def __repr__(self):\n",
    "        return f\"Value(data={self.data})\"\n",
    "    \n",
    "    def __add__(self, other):\n",
    "        out = Value(self.data + other.data, (self, other), '+')\n",
    "        return out\n",
    "    \n",
    "    def __mul__(self, other):\n",
    "        out = Value(self.data * other.data, (self, other), '*')\n",
    "        return out\n",
    "    \n",
    "a = Value(2.0)\n",
    "b = Value(-3.0)\n",
    "c = Value(10.0)\n",
    "d = a*b\n",
    "e = d+c"
   ]
  },
  {
   "cell_type": "code",
   "execution_count": 10,
   "id": "b81307af",
   "metadata": {},
   "outputs": [
    {
     "name": "stdout",
     "output_type": "stream",
     "text": [
      "{Value(data=2.0), Value(data=-3.0)} {Value(data=10.0), Value(data=-6.0)}\n"
     ]
    }
   ],
   "source": [
    "print(d._prev, e._prev)"
   ]
  },
  {
   "cell_type": "code",
   "execution_count": 11,
   "id": "9731e7c3",
   "metadata": {},
   "outputs": [
    {
     "name": "stdout",
     "output_type": "stream",
     "text": [
      "* +\n"
     ]
    }
   ],
   "source": [
    "print(d._op, e._op)"
   ]
  },
  {
   "cell_type": "code",
   "execution_count": null,
   "id": "81e9a9ac",
   "metadata": {},
   "outputs": [],
   "source": []
  }
 ],
 "metadata": {
  "kernelspec": {
   "display_name": "Python 3 (ipykernel)",
   "language": "python",
   "name": "python3"
  },
  "language_info": {
   "codemirror_mode": {
    "name": "ipython",
    "version": 3
   },
   "file_extension": ".py",
   "mimetype": "text/x-python",
   "name": "python",
   "nbconvert_exporter": "python",
   "pygments_lexer": "ipython3",
   "version": "3.11.5"
  }
 },
 "nbformat": 4,
 "nbformat_minor": 5
}
