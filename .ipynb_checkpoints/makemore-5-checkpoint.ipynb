{
 "cells": [
  {
   "cell_type": "code",
   "execution_count": 1,
   "id": "9b35dce2",
   "metadata": {},
   "outputs": [],
   "source": [
    "import torch\n",
    "import torch.nn.functional as F\n",
    "import matplotlib.pyplot as plt\n",
    "%matplotlib inline"
   ]
  },
  {
   "cell_type": "code",
   "execution_count": 2,
   "id": "06230e80",
   "metadata": {},
   "outputs": [
    {
     "data": {
      "text/plain": [
       "['emma', 'olivia', 'ava', 'isabella', 'sophia', 'charlotte', 'mia', 'amelia']"
      ]
     },
     "execution_count": 2,
     "metadata": {},
     "output_type": "execute_result"
    }
   ],
   "source": [
    "# read all the words\n",
    "words = open('names.txt', 'r').read().splitlines()\n",
    "words[:8]"
   ]
  },
  {
   "cell_type": "code",
   "execution_count": 3,
   "id": "414cc61f",
   "metadata": {},
   "outputs": [
    {
     "name": "stdout",
     "output_type": "stream",
     "text": [
      "{1: 'a', 2: 'b', 3: 'c', 4: 'd', 5: 'e', 6: 'f', 7: 'g', 8: 'h', 9: 'i', 10: 'j', 11: 'k', 12: 'l', 13: 'm', 14: 'n', 15: 'o', 16: 'p', 17: 'q', 18: 'r', 19: 's', 20: 't', 21: 'u', 22: 'v', 23: 'w', 24: 'x', 25: 'y', 26: 'z', 0: '.'}\n",
      "27\n"
     ]
    }
   ],
   "source": [
    "# build the vocabulary of characters and mappings to/from integers\n",
    "chars = sorted(list(set(''.join(words))))\n",
    "stoi = {s:i+1 for i,s in enumerate(chars)}\n",
    "stoi['.'] = 0\n",
    "itos = {i:s for s,i in stoi.items()}\n",
    "vocab_size = len(itos)\n",
    "print(itos)\n",
    "print(vocab_size)"
   ]
  },
  {
   "cell_type": "code",
   "execution_count": 4,
   "id": "4a7e61bd",
   "metadata": {},
   "outputs": [],
   "source": [
    "# shuffle up the words\n",
    "import random\n",
    "random.seed(42)\n",
    "random.shuffle(words)"
   ]
  },
  {
   "cell_type": "code",
   "execution_count": 5,
   "id": "2bc1ac49",
   "metadata": {},
   "outputs": [
    {
     "name": "stdout",
     "output_type": "stream",
     "text": [
      "torch.Size([182580, 3]) torch.Size([182580])\n",
      "torch.Size([22767, 3]) torch.Size([22767])\n",
      "torch.Size([22799, 3]) torch.Size([22799])\n"
     ]
    }
   ],
   "source": [
    "# build the dataset\n",
    "block_size = 3 # context length : how many characters do we take to pedioct the next one\n",
    "\n",
    "def build_dataset(words):\n",
    "    X, Y = [], []\n",
    "    \n",
    "    for w in words:\n",
    "        context = [0] * block_size\n",
    "        for ch in w + '.':\n",
    "            ix = stoi[ch]\n",
    "            X.append(context)\n",
    "            Y.append(ix)\n",
    "            context = context[1:] + [ix] #crop and append\n",
    "        \n",
    "    X = torch.tensor(X)\n",
    "    Y = torch.tensor(Y)\n",
    "    print(X.shape, Y.shape)\n",
    "    return X, Y\n",
    "\n",
    "import random\n",
    "random.seed(42)\n",
    "random.shuffle(words)\n",
    "n1 = int(0.8*len(words))\n",
    "n2 = int(0.9*len(words))\n",
    "\n",
    "Xtr, Ytr = build_dataset(words[:n1])\n",
    "Xdev, Ydev = build_dataset(words[n1:n2])\n",
    "Xte, Yte = build_dataset(words[n2:])"
   ]
  },
  {
   "cell_type": "code",
   "execution_count": 7,
   "id": "5b9eace3",
   "metadata": {},
   "outputs": [
    {
     "name": "stdout",
     "output_type": "stream",
     "text": [
      "... --> e\n",
      "..e --> b\n",
      ".eb --> r\n",
      "ebr --> i\n",
      "bri --> m\n",
      "rim --> a\n",
      "ima --> .\n",
      "... --> h\n",
      "..h --> i\n",
      ".hi --> l\n",
      "hil --> t\n",
      "ilt --> o\n",
      "lto --> n\n",
      "ton --> .\n",
      "... --> j\n",
      "..j --> h\n",
      ".jh --> e\n",
      "jhe --> n\n",
      "hen --> e\n",
      "ene --> .\n"
     ]
    }
   ],
   "source": [
    "for x,y in zip(Xtr[:20], Ytr[:20]):\n",
    "    print(''.join(itos[ix.item()] for ix in x), '-->', itos[y.item()])"
   ]
  },
  {
   "cell_type": "code",
   "execution_count": 18,
   "id": "e03e2f45",
   "metadata": {},
   "outputs": [],
   "source": [
    "class Linear:\n",
    "    \n",
    "    def __init__(self, fan_in, fan_out, bias=True):\n",
    "        self.weight = torch.randn((fan_in, fan_out)) / fan_in**0.5 # note : kaiming initialisation\n",
    "        self.bias = torch.zeros(fan_out) if bias else None\n",
    "        \n",
    "    def __call__(self, x):\n",
    "        self.out = x @ self.weight\n",
    "        if self.bias is not None:\n",
    "            self.out += self.bias\n",
    "        return self.out\n",
    "    \n",
    "    def parameters(self):\n",
    "        return [self.weight] + ([] if self.bias is None else [self.bias])\n",
    "    \n",
    "    \n",
    "class BatchNorm1d:\n",
    "    \n",
    "    def __init__(self, dim, eps=1e-5, momentum=0.1):\n",
    "        self.eps = eps\n",
    "        self.momentum = momentum\n",
    "        self.training = True\n",
    "        # parameters (trained with backprop)\n",
    "        self.gamma = torch.ones(dim)\n",
    "        self.beta = torch.zeros(dim)\n",
    "        # buffers (trained with a running momentum update)\n",
    "        self.running_mean = torch.zeros(dim)\n",
    "        self.running_var = torch.ones(dim)\n",
    "        \n",
    "    def __call__(self, x):\n",
    "        # calculate the forward pass\n",
    "        if self.training:\n",
    "            xmean = x.mean(0, keepdim=True) # batch mean\n",
    "            xvar = x.var(0, keepdim=True) # batch variance\n",
    "        else:\n",
    "            xmean = self.running_mean\n",
    "            xvar = self.running_var\n",
    "        xhat = (x - xmean) / torch.sqrt(xvar + self.eps) # normalie to unit variance\n",
    "        self.out = self.gamma * xhat + self.beta\n",
    "        # update the buffers\n",
    "        if self.training:\n",
    "            with torch.no_grad():\n",
    "                self.running_mean = (1 - self.momentum) * self.running_mean + self.momentum * xmean\n",
    "                self.running_var = (1 - self.momentum) * self.running_var + self.momentum * xvar\n",
    "        return self.out\n",
    "    \n",
    "    def parameters(self):\n",
    "        return [self.gamma, self.beta]\n",
    "    \n",
    "    \n",
    "class Tanh:\n",
    "    def __call__(self, x):\n",
    "        self.out = torch.tanh(x)\n",
    "        return self.out\n",
    "    def parameters(self):\n",
    "        return []"
   ]
  },
  {
   "cell_type": "code",
   "execution_count": 19,
   "id": "3fd6c0de",
   "metadata": {},
   "outputs": [],
   "source": [
    "torch.manual_seed(42); # seed rng for reproducibility"
   ]
  },
  {
   "cell_type": "code",
   "execution_count": 20,
   "id": "910d6140",
   "metadata": {},
   "outputs": [
    {
     "name": "stdout",
     "output_type": "stream",
     "text": [
      "12097\n"
     ]
    }
   ],
   "source": [
    "n_embd = 10 # the dimensionality of the character embedding vector\n",
    "n_hidden = 200 # the number of neurons in the hidden layer of MLP\n",
    "\n",
    "C = torch.randn((vocab_size, n_embd))\n",
    "layers = [\n",
    "    Linear(n_embd * block_size, n_hidden, bias=False), BatchNorm1d(n_hidden), Tanh(),\n",
    "    Linear(n_hidden, vocab_size),\n",
    "]\n",
    "\n",
    "# parameter init \n",
    "with torch.no_grad():\n",
    "    layers[-1].weight *= 0.1 # last layer make less confident\n",
    "    \n",
    "parameters = [C] + [p for layer in layers for p in layer.parameters()]\n",
    "print(sum(p.nelement() for p in parameters)) # number of parameters in total\n",
    "for p in parameters:\n",
    "    p.requires_grad = True"
   ]
  },
  {
   "cell_type": "code",
   "execution_count": 22,
   "id": "c037c5a9",
   "metadata": {},
   "outputs": [
    {
     "name": "stdout",
     "output_type": "stream",
     "text": [
      "      0/ 200000 : 3.2514\n",
      "   1000/ 200000 : 2.9129\n",
      "   2000/ 200000 : 2.8504\n",
      "   3000/ 200000 : 2.4265\n",
      "   4000/ 200000 : 2.5096\n",
      "   5000/ 200000 : 2.2008\n",
      "   6000/ 200000 : 2.4912\n",
      "   7000/ 200000 : 2.2354\n",
      "   8000/ 200000 : 1.9179\n",
      "   9000/ 200000 : 2.3606\n",
      "  10000/ 200000 : 2.2360\n",
      "  11000/ 200000 : 2.5012\n",
      "  12000/ 200000 : 2.7077\n",
      "  13000/ 200000 : 2.3286\n",
      "  14000/ 200000 : 2.2456\n",
      "  15000/ 200000 : 2.5745\n",
      "  16000/ 200000 : 2.3037\n",
      "  17000/ 200000 : 2.4110\n",
      "  18000/ 200000 : 2.2999\n",
      "  19000/ 200000 : 1.9314\n",
      "  20000/ 200000 : 2.2161\n",
      "  21000/ 200000 : 2.4772\n",
      "  22000/ 200000 : 2.1751\n",
      "  23000/ 200000 : 2.3529\n",
      "  24000/ 200000 : 2.2824\n",
      "  25000/ 200000 : 2.4035\n",
      "  26000/ 200000 : 2.0932\n",
      "  27000/ 200000 : 2.4389\n",
      "  28000/ 200000 : 2.3124\n",
      "  29000/ 200000 : 1.8808\n",
      "  30000/ 200000 : 1.9709\n",
      "  31000/ 200000 : 2.2618\n",
      "  32000/ 200000 : 1.7793\n",
      "  33000/ 200000 : 2.5177\n",
      "  34000/ 200000 : 2.0310\n",
      "  35000/ 200000 : 2.6001\n",
      "  36000/ 200000 : 2.1721\n",
      "  37000/ 200000 : 2.0076\n",
      "  38000/ 200000 : 2.2345\n",
      "  39000/ 200000 : 2.4497\n",
      "  40000/ 200000 : 2.3630\n",
      "  41000/ 200000 : 2.1944\n",
      "  42000/ 200000 : 2.0003\n",
      "  43000/ 200000 : 1.9829\n",
      "  44000/ 200000 : 2.2374\n",
      "  45000/ 200000 : 2.1824\n",
      "  46000/ 200000 : 2.4652\n",
      "  47000/ 200000 : 1.9821\n",
      "  48000/ 200000 : 2.1333\n",
      "  49000/ 200000 : 2.3697\n",
      "  50000/ 200000 : 2.3766\n",
      "  51000/ 200000 : 2.5113\n",
      "  52000/ 200000 : 2.2356\n",
      "  53000/ 200000 : 2.1964\n",
      "  54000/ 200000 : 2.3586\n",
      "  55000/ 200000 : 2.2787\n",
      "  56000/ 200000 : 2.2032\n",
      "  57000/ 200000 : 2.0826\n",
      "  58000/ 200000 : 2.3603\n",
      "  59000/ 200000 : 2.3035\n",
      "  60000/ 200000 : 2.1208\n",
      "  61000/ 200000 : 2.1866\n",
      "  62000/ 200000 : 2.1472\n",
      "  63000/ 200000 : 2.4795\n",
      "  64000/ 200000 : 2.2645\n",
      "  65000/ 200000 : 2.1755\n",
      "  66000/ 200000 : 2.3559\n",
      "  67000/ 200000 : 2.1848\n",
      "  68000/ 200000 : 2.1165\n",
      "  69000/ 200000 : 1.9225\n",
      "  70000/ 200000 : 2.1656\n",
      "  71000/ 200000 : 2.2530\n",
      "  72000/ 200000 : 2.0820\n",
      "  73000/ 200000 : 2.1140\n",
      "  74000/ 200000 : 2.4655\n",
      "  75000/ 200000 : 2.3384\n",
      "  76000/ 200000 : 2.2189\n",
      "  77000/ 200000 : 2.0561\n",
      "  78000/ 200000 : 1.9774\n",
      "  79000/ 200000 : 1.8118\n",
      "  80000/ 200000 : 2.1387\n",
      "  81000/ 200000 : 2.0772\n",
      "  82000/ 200000 : 1.9690\n",
      "  83000/ 200000 : 2.0462\n",
      "  84000/ 200000 : 2.3372\n",
      "  85000/ 200000 : 1.7837\n",
      "  86000/ 200000 : 2.2800\n",
      "  87000/ 200000 : 2.2367\n",
      "  88000/ 200000 : 2.0643\n",
      "  89000/ 200000 : 2.1732\n",
      "  90000/ 200000 : 2.2867\n",
      "  91000/ 200000 : 2.2047\n",
      "  92000/ 200000 : 2.1122\n",
      "  93000/ 200000 : 1.9091\n",
      "  94000/ 200000 : 1.8959\n",
      "  95000/ 200000 : 2.3094\n",
      "  96000/ 200000 : 2.2751\n",
      "  97000/ 200000 : 2.3177\n",
      "  98000/ 200000 : 2.0548\n",
      "  99000/ 200000 : 2.4177\n",
      " 100000/ 200000 : 2.2361\n",
      " 101000/ 200000 : 2.2389\n",
      " 102000/ 200000 : 2.0584\n",
      " 103000/ 200000 : 1.9864\n",
      " 104000/ 200000 : 2.6563\n",
      " 105000/ 200000 : 1.9628\n",
      " 106000/ 200000 : 1.8513\n",
      " 107000/ 200000 : 1.9468\n",
      " 108000/ 200000 : 2.0338\n",
      " 109000/ 200000 : 2.1170\n",
      " 110000/ 200000 : 2.0529\n",
      " 111000/ 200000 : 1.7784\n",
      " 112000/ 200000 : 1.8590\n",
      " 113000/ 200000 : 2.0301\n",
      " 114000/ 200000 : 2.2090\n",
      " 115000/ 200000 : 2.4536\n",
      " 116000/ 200000 : 1.7851\n",
      " 117000/ 200000 : 1.9306\n",
      " 118000/ 200000 : 2.1187\n",
      " 119000/ 200000 : 2.1501\n",
      " 120000/ 200000 : 1.8899\n",
      " 121000/ 200000 : 2.1413\n",
      " 122000/ 200000 : 2.0432\n",
      " 123000/ 200000 : 2.3219\n",
      " 124000/ 200000 : 1.8322\n",
      " 125000/ 200000 : 1.9126\n",
      " 126000/ 200000 : 2.1568\n",
      " 127000/ 200000 : 2.1032\n",
      " 128000/ 200000 : 1.7850\n",
      " 129000/ 200000 : 2.3246\n",
      " 130000/ 200000 : 1.9969\n",
      " 131000/ 200000 : 2.2642\n",
      " 132000/ 200000 : 2.2985\n",
      " 133000/ 200000 : 1.8663\n",
      " 134000/ 200000 : 2.6271\n",
      " 135000/ 200000 : 2.6201\n",
      " 136000/ 200000 : 2.0175\n",
      " 137000/ 200000 : 1.7520\n",
      " 138000/ 200000 : 1.9162\n",
      " 139000/ 200000 : 1.7498\n",
      " 140000/ 200000 : 1.8617\n",
      " 141000/ 200000 : 2.2612\n",
      " 142000/ 200000 : 1.7216\n",
      " 143000/ 200000 : 2.3360\n",
      " 144000/ 200000 : 1.9291\n",
      " 145000/ 200000 : 2.2235\n",
      " 146000/ 200000 : 2.1055\n",
      " 147000/ 200000 : 1.8796\n",
      " 148000/ 200000 : 1.9211\n",
      " 149000/ 200000 : 2.6066\n",
      " 150000/ 200000 : 1.9983\n",
      " 151000/ 200000 : 1.9182\n",
      " 152000/ 200000 : 1.9453\n",
      " 153000/ 200000 : 1.8287\n",
      " 154000/ 200000 : 2.0341\n",
      " 155000/ 200000 : 2.0068\n",
      " 156000/ 200000 : 1.5973\n",
      " 157000/ 200000 : 1.9543\n",
      " 158000/ 200000 : 1.7761\n",
      " 159000/ 200000 : 1.9727\n",
      " 160000/ 200000 : 2.6041\n",
      " 161000/ 200000 : 2.1615\n",
      " 162000/ 200000 : 1.9865\n",
      " 163000/ 200000 : 2.4714\n",
      " 164000/ 200000 : 1.9420\n",
      " 165000/ 200000 : 1.8079\n",
      " 166000/ 200000 : 2.1300\n",
      " 167000/ 200000 : 1.8330\n",
      " 168000/ 200000 : 2.0578\n",
      " 169000/ 200000 : 2.2886\n",
      " 170000/ 200000 : 2.2467\n",
      " 171000/ 200000 : 2.4129\n",
      " 172000/ 200000 : 2.1408\n",
      " 173000/ 200000 : 2.3449\n",
      " 174000/ 200000 : 2.5202\n",
      " 175000/ 200000 : 2.2099\n",
      " 176000/ 200000 : 2.3762\n",
      " 177000/ 200000 : 2.2852\n",
      " 178000/ 200000 : 1.8223\n",
      " 179000/ 200000 : 2.2837\n",
      " 180000/ 200000 : 2.3921\n",
      " 181000/ 200000 : 1.7619\n",
      " 182000/ 200000 : 2.4254\n",
      " 183000/ 200000 : 2.2629\n",
      " 184000/ 200000 : 2.1365\n",
      " 185000/ 200000 : 1.7644\n",
      " 186000/ 200000 : 2.1843\n",
      " 187000/ 200000 : 2.3297\n",
      " 188000/ 200000 : 2.0666\n",
      " 189000/ 200000 : 1.9027\n",
      " 190000/ 200000 : 1.8107\n",
      " 191000/ 200000 : 2.0598\n",
      " 192000/ 200000 : 2.2627\n",
      " 193000/ 200000 : 1.9510\n",
      " 194000/ 200000 : 2.0766\n",
      " 195000/ 200000 : 2.2503\n",
      " 196000/ 200000 : 1.7836\n",
      " 197000/ 200000 : 2.3703\n",
      " 198000/ 200000 : 1.9847\n",
      " 199000/ 200000 : 2.0210\n"
     ]
    }
   ],
   "source": [
    "# optimization step\n",
    "max_steps = 200000\n",
    "batch_size = 32\n",
    "lossi= []\n",
    "\n",
    "for i in range(max_steps):\n",
    "    \n",
    "    # minibatch construct\n",
    "    ix = torch.randint(0, Xtr.shape[0], (batch_size,))\n",
    "    Xb, Yb = Xtr[ix], Ytr[ix] # batch X, Y\n",
    "    \n",
    "    # forward pass\n",
    "    emb = C[Xb] # embed the characters into vectors\n",
    "    x = emb.view(emb.shape[0], -1) # concatenate the vectors\n",
    "    for layer in layers:\n",
    "        x = layer(x)\n",
    "    loss = F.cross_entropy(x, Yb) # loss function\n",
    "    \n",
    "    # backward pass\n",
    "    for p in parameters:\n",
    "        p.grad = None\n",
    "    loss.backward()\n",
    "    \n",
    "    # update : simple SGD\n",
    "    lr = 0.1 if i<15000 else 0.01 # step learning rate decay\n",
    "    for p in parameters:\n",
    "        p.data += -lr * p.grad\n",
    "        \n",
    "    # track stats\n",
    "    if i % 1000 == 0: # print every once in a while\n",
    "        print(f'{i:7d}/{max_steps:7d} : {loss.item():.4f}')\n",
    "    lossi.append(loss.log10().item())"
   ]
  },
  {
   "cell_type": "code",
   "execution_count": 23,
   "id": "20d8ff19",
   "metadata": {},
   "outputs": [
    {
     "data": {
      "text/plain": [
       "[<matplotlib.lines.Line2D at 0x1baed3dfbd0>]"
      ]
     },
     "execution_count": 23,
     "metadata": {},
     "output_type": "execute_result"
    },
    {
     "data": {
      "image/png": "[encoded data removed]",
      "text/plain": [
       "<Figure size 640x480 with 1 Axes>"
      ]
     },
     "metadata": {},
     "output_type": "display_data"
    }
   ],
   "source": [
    "plt.plot(lossi)"
   ]
  },
  {
   "cell_type": "code",
   "execution_count": 24,
   "id": "b76b033e",
   "metadata": {},
   "outputs": [],
   "source": [
    "# put layer into eval mode (needed for batchnorm especially)\n",
    "for layer in layers:\n",
    "    layer.training = False"
   ]
  },
  {
   "cell_type": "code",
   "execution_count": 25,
   "id": "8589624d",
   "metadata": {},
   "outputs": [
    {
     "name": "stdout",
     "output_type": "stream",
     "text": [
      "train 2.0921871662139893\n",
      "val 2.129911422729492\n"
     ]
    }
   ],
   "source": [
    "# evaluate the loss\n",
    "@torch.no_grad() # this decorator disables gradient tracking in pytorch\n",
    "def split_loss(split):\n",
    "    x, y ={\n",
    "        'train' : (Xtr, Ytr),\n",
    "        'val' : (Xdev, Ydev),\n",
    "        'text' : (Xte, Yte),\n",
    "    }[split]\n",
    "    emb = C[x] # (N, block_sie, n_embd)\n",
    "    x = emb.view(emb.shape[0], -1) # concat into (N, block_sie * n_embd)\n",
    "    for layer in layers:\n",
    "        x = layer(x)\n",
    "    loss = F.cross_entropy(x, y)\n",
    "    print(split, loss.item())\n",
    "    \n",
    "split_loss('train')\n",
    "split_loss('val')"
   ]
  },
  {
   "cell_type": "code",
   "execution_count": 26,
   "id": "fe899d93",
   "metadata": {},
   "outputs": [
    {
     "ename": "RuntimeError",
     "evalue": "a Tensor with 32 elements cannot be converted to Scalar",
     "output_type": "error",
     "traceback": [
      "\u001b[1;31m---------------------------------------------------------------------------\u001b[0m",
      "\u001b[1;31mRuntimeError\u001b[0m                              Traceback (most recent call last)",
      "Cell \u001b[1;32mIn[26], line 12\u001b[0m\n\u001b[0;32m     10\u001b[0m probs \u001b[38;5;241m=\u001b[39m F\u001b[38;5;241m.\u001b[39msoftmax(logits, dim\u001b[38;5;241m=\u001b[39m\u001b[38;5;241m1\u001b[39m)\n\u001b[0;32m     11\u001b[0m \u001b[38;5;66;03m# sample from the distribution\u001b[39;00m\n\u001b[1;32m---> 12\u001b[0m ix \u001b[38;5;241m=\u001b[39m torch\u001b[38;5;241m.\u001b[39mmultinomial(probs, num_samples\u001b[38;5;241m=\u001b[39m\u001b[38;5;241m1\u001b[39m)\u001b[38;5;241m.\u001b[39mitem()\n\u001b[0;32m     13\u001b[0m \u001b[38;5;66;03m# shift the context window and track the samples\u001b[39;00m\n\u001b[0;32m     14\u001b[0m context \u001b[38;5;241m=\u001b[39m context[\u001b[38;5;241m1\u001b[39m:] \u001b[38;5;241m+\u001b[39m [ix]\n",
      "\u001b[1;31mRuntimeError\u001b[0m: a Tensor with 32 elements cannot be converted to Scalar"
     ]
    }
   ],
   "source": [
    "# sample from the model\n",
    "\n",
    "for _ in range(20):\n",
    "    out = []\n",
    "    context = [0] * block_size # (1, block_size, n_embd)\n",
    "    x = emb.view(emb.shape[0], -1)\n",
    "    for layer in layers:\n",
    "        x = layer(x)\n",
    "    logits = x\n",
    "    probs = F.softmax(logits, dim=1)\n",
    "    # sample from the distribution\n",
    "    ix = torch.multinomial(probs, num_samples=1).item()\n",
    "    # shift the context window and track the samples\n",
    "    context = context[1:] + [ix]\n",
    "    out.append(ix)\n",
    "    # if we sample the special '.' token, break\n",
    "    if ix==0:\n",
    "        break\n",
    "        \n",
    "    print(''.join(itos[i] for i in out)) # decode and print the generated word"
   ]
  },
  {
   "cell_type": "code",
   "execution_count": null,
   "id": "f7c99514",
   "metadata": {},
   "outputs": [],
   "source": []
  }
 ],
 "metadata": {
  "kernelspec": {
   "display_name": "Python 3 (ipykernel)",
   "language": "python",
   "name": "python3"
  },
  "language_info": {
   "codemirror_mode": {
    "name": "ipython",
    "version": 3
   },
   "file_extension": ".py",
   "mimetype": "text/x-python",
   "name": "python",
   "nbconvert_exporter": "python",
   "pygments_lexer": "ipython3",
   "version": "3.11.5"
  }
 },
 "nbformat": 4,
 "nbformat_minor": 5
}
